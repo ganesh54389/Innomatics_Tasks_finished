{
  "nbformat": 4,
  "nbformat_minor": 0,
  "metadata": {
    "colab": {
      "provenance": []
    },
    "kernelspec": {
      "name": "python3",
      "display_name": "Python 3"
    },
    "language_info": {
      "name": "python"
    }
  },
  "cells": [
    {
      "cell_type": "markdown",
      "source": [
        "# Python Identifiers(Task01)\n",
        "1.Explain about identifiers and their rules ?\n",
        "\n",
        "**identifiers**:-\n",
        "\n",
        "An identifiers is the name given to programming elemenst like varibles ,Functions,Clases,Modules and Objects .\n",
        "\n",
        " **Rules for identifiers:-**\n",
        "\n",
        " 1.Start with letters(A to Z or a to Z) and underscore and followed by letters ,digits and underscore .\n",
        "\n",
        " 2.Python Identifiers are Case Sensitive\n",
        "\n",
        " 3.Reserved Words cant be used as identifiers\n",
        "\n",
        " 4.Identifiers cant include Special characters (!,@,#,$) and cant contain Spaces\n",
        "\n",
        " 5.identifiers cannot contain Spaces\n",
        "\n",
        " 6.identifiers contain Alphanumeric and underscore\n"
      ],
      "metadata": {
        "id": "kvhj1eDhgQge"
      }
    },
    {
      "cell_type": "markdown",
      "source": [
        "2.Run the given identifiers and categorize them into valid and invalid ones.\n",
        "\n",
        "my_variable = 25\n",
        "\n",
        "counter = 40.7\n",
        "\n",
        "_total = \"Hello\"\n",
        "\n",
        "123abc = 34\n",
        "\n",
        "my variable =6.7\n",
        "\n",
        "@count = \"hi\"\n",
        "\n",
        "for = \"True\"\n",
        "\n",
        "Name123 = 136\n",
        "\n",
        "myFunction = True\n",
        "\n",
        "_data = False\n",
        "\n",
        "if_condition? = \"Innomatics\"\n",
        "\n",
        "class = \"Hyderabad\""
      ],
      "metadata": {
        "id": "5F05shjejWUv"
      }
    },
    {
      "cell_type": "code",
      "source": [
        "my_variable = 25\n",
        "#valid :-Start with small letter and contain Underscore\n",
        "counter = 40.7\n",
        "#valid:start with small letters and contain only letters\n",
        "_total = \"Hello\"\n",
        "#valid:start with Underscore\n",
        "123abc = 34\n",
        "#invalid:-Start with numbers,this is not allowed in python\n",
        "my variable =6.7\n",
        "#invalid :-it contain spaces ,not allowed in python\n",
        "@count = \"hi\"\n",
        "#invalid:-start with special character ,not allowed in python\n",
        "for = \"True\"\n",
        "#invalid:-for is a reserved key word.reserved key words are not used as indeifiers in python\n",
        "Name123 = 136\n",
        "#valid satrt with capital letter and foloowed by numbers\n",
        "myFunction = True\n",
        "#valid:-satrt with small letter\n",
        "_data = False\n",
        "#valid:-start with underscore foloowed by letters\n",
        "if_condition? = \"Innomatics\"\n",
        "#invalid:-contain the special charcters \"?\",not allowed in Python\n",
        "class = \"Hyderabad\"\n",
        "#class is a keyword ,not used as identifiers in python\n",
        "\n",
        "\n",
        "\n"
      ],
      "metadata": {
        "id": "GoBoP2cqj0YZ"
      },
      "execution_count": null,
      "outputs": []
    },
    {
      "cell_type": "markdown",
      "source": [
        "3.Explain why Python treats some identifiers as invalid?\n",
        "\n",
        "1.identifiers deos not start with digits and spaces\n",
        "\n",
        "2.Spaces, special characters , reservered keywords are not used in a python\n",
        "\n",
        "3.Python is Case Sensitive\n",
        "\n",
        "4.identifiers start with Underscore (_)"
      ],
      "metadata": {
        "id": "R5D3BeqznIRh"
      }
    },
    {
      "cell_type": "markdown",
      "source": [
        "4.Rewrite the invalid identifiers correctly."
      ],
      "metadata": {
        "id": "fIloTRJ4oLHO"
      }
    },
    {
      "cell_type": "code",
      "source": [
        "123abc → abc123            #Starts with a letter, not a number\n",
        "\n",
        "my variable → my_variable   #No spaces, use an underscore instead\n",
        "\n",
        "@count → count or count_    #Remove special characters like @\n",
        "\n",
        "for → for_variable or my_for #Avoid using Python keywords\n",
        "\n",
        "if_condition? → if_condition #Remove special characters like ?\n",
        "\n",
        "class → class_name or my_class #Avoid using Python keywords"
      ],
      "metadata": {
        "id": "AMrP1aTSogv7"
      },
      "execution_count": null,
      "outputs": []
    },
    {
      "cell_type": "markdown",
      "source": [
        "5.Assign different valid identifiers to given values.\n",
        "\n",
        "10\n",
        "\n",
        "-5\n",
        "\n",
        "3.14159\n",
        "\n",
        "-0.12345\n",
        "\n",
        "1000\n",
        "\n",
        "\"Hello, World!\"\n",
        "\n",
        "\"Python\"\n",
        "\n",
        "\"I am learning\"\n",
        "\n",
        "\"Text type\"\n",
        "\n",
        "\"String\"\n",
        "\n",
        "TRUE\n",
        "\n",
        "FALSE"
      ],
      "metadata": {
        "id": "wskTTB5XoyV3"
      }
    },
    {
      "cell_type": "code",
      "source": [
        "Positive_number=10\n",
        "Negative_number=-5\n",
        "decimal_number=3.14159\n",
        "negative_decimal_nuber=-0.12345\n",
        "number=1000\n",
        "greeting=\"hello, World!\"\n",
        "programming_language=\"python\"\n",
        "Innomatics=\"i am learning\"\n",
        "text=\"Text type\"\n",
        "name=\"String\"\n",
        "Bool01=True\n",
        "Bool02=False"
      ],
      "metadata": {
        "id": "-icYBwUdo7mk"
      },
      "execution_count": null,
      "outputs": []
    }
  ]
}