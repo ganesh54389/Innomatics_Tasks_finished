{
  "nbformat": 4,
  "nbformat_minor": 0,
  "metadata": {
    "colab": {
      "provenance": []
    },
    "kernelspec": {
      "name": "python3",
      "display_name": "Python 3"
    },
    "language_info": {
      "name": "python"
    }
  },
  "cells": [
    {
      "cell_type": "markdown",
      "source": [
        "# 1.Airthmatic Operators:-\n",
        "Q1: What will be the output of the following expressions? Predict the result first, then run in Python to verify:"
      ],
      "metadata": {
        "id": "SfuQBE0OeBDY"
      }
    },
    {
      "cell_type": "code",
      "execution_count": 1,
      "metadata": {
        "colab": {
          "base_uri": "https://localhost:8080/"
        },
        "id": "UeCRHsCBeAIN",
        "outputId": "92f8ec51-4751-484b-d6ab-c45c382de98c"
      },
      "outputs": [
        {
          "output_type": "stream",
          "name": "stdout",
          "text": [
            "29\n",
            "21\n",
            "100\n",
            "6.25\n",
            "6\n",
            "1\n",
            "390625\n"
          ]
        }
      ],
      "source": [
        "a=25\n",
        "b=4\n",
        "print(a+b)  # Addition\n",
        "print(a-b)  # Subtraction\n",
        "print(a*b)  # Multiplication\n",
        "print(a/b)  # Division\n",
        "print(a//b) # Floor Division\n",
        "print(a%b)  # Modulus\n",
        "print(a**b) # Exponentiation"
      ]
    },
    {
      "cell_type": "markdown",
      "source": [
        "Q2: Swap two numbers using arithmetic operators only (without using a third variable)."
      ],
      "metadata": {
        "id": "X_vV53VSeKYB"
      }
    },
    {
      "cell_type": "code",
      "source": [
        "a=input(\"a=\")\n",
        "b=input(\"b=\")\n",
        "if a.isdigit() and b.isdigit():\n",
        "    a=int(a)\n",
        "    b=int(b)\n",
        "    a = a + b\n",
        "    b = a - b\n",
        "    a = a - b\n",
        "    print(\"After swpping\")\n",
        "    print(\"a=\",a)\n",
        "    print(\"b=\",b)\n",
        "else:\n",
        "    print(\"invalid input\")"
      ],
      "metadata": {
        "colab": {
          "base_uri": "https://localhost:8080/"
        },
        "id": "f4yt_kHVeLhD",
        "outputId": "3e485de5-4c3f-4c9f-92e2-5b0a3b1226ce"
      },
      "execution_count": 3,
      "outputs": [
        {
          "output_type": "stream",
          "name": "stdout",
          "text": [
            "a=45\n",
            "b=87\n",
            "After swpping\n",
            "a= 87\n",
            "b= 45\n"
          ]
        }
      ]
    },
    {
      "cell_type": "markdown",
      "source": [
        "Q3: Create a script to calculate the average of five numbers entered by the user using input() and arithmetic operators."
      ],
      "metadata": {
        "id": "KXFlsgxCeV7q"
      }
    },
    {
      "cell_type": "code",
      "source": [
        "a,b,c,d,e=input(\"a=\"),input(\"b=\"),input(\"c=\"),input(\"d=\"),input(\"e=\")\n",
        "if a.isdigit() and b.isdigit() and c.isdigit() and d.isdigit() and e.isdigit() :\n",
        "    a=int(a)\n",
        "    b=int(b)\n",
        "    c=int(c)\n",
        "    d=int(d)\n",
        "    e=int(e)\n",
        "\n",
        "    avg=(a+b+c+d+e)/5\n",
        "    print(\"Average=\",avg)\n",
        "else:\n",
        "    print(\"invalid input\")"
      ],
      "metadata": {
        "colab": {
          "base_uri": "https://localhost:8080/"
        },
        "id": "T9cM513qfinF",
        "outputId": "66ee6e49-c80a-4928-ff7a-8fddae7194e4"
      },
      "execution_count": 6,
      "outputs": [
        {
          "output_type": "stream",
          "name": "stdout",
          "text": [
            "a=5\n",
            "b=5\n",
            "c=5\n",
            "d=5\n",
            "e=5\n",
            "Average= 5.0\n"
          ]
        }
      ]
    },
    {
      "cell_type": "code",
      "source": [
        "a = input(\"a=\")\n",
        "b = input(\"b=\")\n",
        "c = input(\"c=\")\n",
        "d = input(\"d=\")\n",
        "e = input(\"e=\")\n",
        "\n",
        "if a.isdecimal() and b.isdecimal() and c.isdecimal() and d.isdecimal() and e.isdecimal():\n",
        "    # Convert to integers\n",
        "    a = int(a)\n",
        "    b = int(b)\n",
        "    c = int(c)\n",
        "    d = int(d)\n",
        "    e = int(e)\n",
        "\n",
        "    avg = (a + b + c + d + e) / 5\n",
        "    print(\"Average =\", avg)\n",
        "else:\n",
        "    print(\"Invalid input\")\n",
        "\n"
      ],
      "metadata": {
        "colab": {
          "base_uri": "https://localhost:8080/"
        },
        "id": "WiVrAm2gfrPC",
        "outputId": "3846083f-e396-460d-e127-a6451d8718d8"
      },
      "execution_count": 8,
      "outputs": [
        {
          "output_type": "stream",
          "name": "stdout",
          "text": [
            "a=5\n",
            "b=5\n",
            "c=5\n",
            "d=5\n",
            "e=5\n",
            "Average = 5.0\n"
          ]
        }
      ]
    },
    {
      "cell_type": "markdown",
      "source": [
        "# 2. Logical Operators\n",
        "Q1: Fill in the blanks with the correct logical operator (and, or, not) to make the condition true:"
      ],
      "metadata": {
        "id": "YjAm5Q3oghMi"
      }
    },
    {
      "cell_type": "code",
      "source": [
        "x=True\n",
        "y=False\n",
        "#to make the condition true\n",
        "print(x and not y)\n",
        "print(x or y)\n",
        "print(x)\n",
        "print(not y)"
      ],
      "metadata": {
        "colab": {
          "base_uri": "https://localhost:8080/"
        },
        "id": "MogHNy3P9Yl3",
        "outputId": "3039af92-57a4-4aec-9d33-c94b78c0b7a0"
      },
      "execution_count": 21,
      "outputs": [
        {
          "output_type": "stream",
          "name": "stdout",
          "text": [
            "True\n",
            "True\n",
            "True\n",
            "True\n"
          ]
        }
      ]
    },
    {
      "cell_type": "markdown",
      "source": [
        "Q2: Write a script that checks whether a student can pass:\n",
        "Condition: If marks in math > 35 and science > 35.\n",
        "Below are the input marks of students\n",
        "math = 40\n",
        "science = 38\n"
      ],
      "metadata": {
        "id": "YAdxoteRg3Yn"
      }
    },
    {
      "cell_type": "code",
      "source": [
        "mathematics=int(input(\"mathematics=\"))\n",
        "science=int(input(\"science=\"))\n",
        "if mathematics>35 and science>35:\n",
        "    print(\"pass\")\n",
        "else:\n",
        "    print(\"fail\")"
      ],
      "metadata": {
        "colab": {
          "base_uri": "https://localhost:8080/"
        },
        "id": "9hFQttQ7hFBf",
        "outputId": "98851906-ae7c-4e2f-8849-1af9c14ae5df"
      },
      "execution_count": 9,
      "outputs": [
        {
          "output_type": "stream",
          "name": "stdout",
          "text": [
            "mathematics=40\n",
            "science=38\n",
            "pass\n"
          ]
        }
      ]
    },
    {
      "cell_type": "markdown",
      "source": [
        "Q3: If today is not Sunday, and the weather is not raining, print \"You can go for a picnic.\"\n",
        " Otherwise print \"Stay home.\""
      ],
      "metadata": {
        "id": "htu1oFbyhQ9d"
      }
    },
    {
      "cell_type": "code",
      "source": [
        "day=input(\"enter the day :\")\n",
        "weather=input(\"enter the raining or not:\")\n",
        "if day.lower()==\"sunday\" and weather.lower()==\"no\":\n",
        "  print(\"You can go for picnic\")\n",
        "else:\n",
        "  print(\"stay home\")"
      ],
      "metadata": {
        "colab": {
          "base_uri": "https://localhost:8080/"
        },
        "id": "hUaoEQSThcgb",
        "outputId": "9bae85f8-1526-435f-9022-08185c5e2bcf"
      },
      "execution_count": 13,
      "outputs": [
        {
          "output_type": "stream",
          "name": "stdout",
          "text": [
            "enter the day :sunday\n",
            "enter the raining or not:no\n",
            "You can go for picnic\n"
          ]
        }
      ]
    },
    {
      "cell_type": "markdown",
      "source": [
        "3. Comparison Operators\n",
        "Q1: Fill in the blanks and write the output:"
      ],
      "metadata": {
        "id": "X7NMMBm6jCKg"
      }
    },
    {
      "cell_type": "code",
      "source": [
        "x=15\n",
        "y=20\n",
        "print(x>y)\n",
        "print(x<y)"
      ],
      "metadata": {
        "colab": {
          "base_uri": "https://localhost:8080/"
        },
        "id": "su1uEg1jjESm",
        "outputId": "b5c713eb-c5f3-4ef6-fc2a-59b1d18b2c8f"
      },
      "execution_count": 14,
      "outputs": [
        {
          "output_type": "stream",
          "name": "stdout",
          "text": [
            "False\n",
            "True\n"
          ]
        }
      ]
    },
    {
      "cell_type": "markdown",
      "source": [
        "Q2: Write a Python script to compare ages of two people and print who is older or if they are the same age."
      ],
      "metadata": {
        "id": "rAHHuwDV2q_y"
      }
    },
    {
      "cell_type": "code",
      "source": [
        "age01_of_person=int(input(\"age of a first person:\"))\n",
        "age02_of_person=int(input(\"age of a Second person:\"))\n",
        "if age01_of_person>age02_of_person:\n",
        "  print(\"first person is older\")\n",
        "elif age01_of_person<age02_of_person:\n",
        "  print(\"second person is older\")\n",
        "else:\n",
        "  print(\"both ages are equal\")"
      ],
      "metadata": {
        "colab": {
          "base_uri": "https://localhost:8080/"
        },
        "id": "CebP3mDH2sFJ",
        "outputId": "172d7100-0902-4d78-cdae-bc3f2bc46413"
      },
      "execution_count": 2,
      "outputs": [
        {
          "output_type": "stream",
          "name": "stdout",
          "text": [
            "age of a first person:45\n",
            "age of a Second person:45\n",
            "both ages are equal\n"
          ]
        }
      ]
    },
    {
      "cell_type": "markdown",
      "source": [
        "Q3: Write a Python condition to check if a number entered by the user is between 10 and 100 (inclusive)."
      ],
      "metadata": {
        "id": "aj87ZbTm3Y94"
      }
    },
    {
      "cell_type": "code",
      "source": [
        "number=int(input(\"Enter the number:\"))\n",
        "if 10<number<100:\n",
        "  print(\"number is between 10 and 100\")\n",
        "else:\n",
        "  print(\"number is not between 10 and 100\")"
      ],
      "metadata": {
        "colab": {
          "base_uri": "https://localhost:8080/"
        },
        "id": "ieOITGlW3Z6b",
        "outputId": "62a063dd-3d7a-46a5-c9ac-ea224e9eccf9"
      },
      "execution_count": 3,
      "outputs": [
        {
          "output_type": "stream",
          "name": "stdout",
          "text": [
            "Enter the number:11\n",
            "number is between 10 and 100\n"
          ]
        }
      ]
    },
    {
      "cell_type": "markdown",
      "source": [
        "# 4. Concatenation & Repetition\n",
        "Q1: Write the difference between concatenation and repetition in 1 line each with examples.\n",
        "\n",
        "**Concatenation**:-Joing the two strings  with + operaator        "
      ],
      "metadata": {
        "id": "EGTKtOPO4OkD"
      }
    },
    {
      "cell_type": "code",
      "source": [
        "a=\"Innomatics \"\n",
        "b=\"Research labs\"\n",
        "c=a+b\n",
        "print(c)"
      ],
      "metadata": {
        "colab": {
          "base_uri": "https://localhost:8080/"
        },
        "id": "-K_QDrq95Mmz",
        "outputId": "17f0899f-bafa-4fd2-bb6c-2ed9f3a16606"
      },
      "execution_count": 5,
      "outputs": [
        {
          "output_type": "stream",
          "name": "stdout",
          "text": [
            "Innomatics Research labs\n"
          ]
        }
      ]
    },
    {
      "cell_type": "markdown",
      "source": [
        "Repetitions:-Repeat the string specified number of times by using \" * \"operator"
      ],
      "metadata": {
        "id": "raIsXvqD5bFV"
      }
    },
    {
      "cell_type": "code",
      "source": [
        "print(\"Innomatics Research labs\\n\"*4)"
      ],
      "metadata": {
        "colab": {
          "base_uri": "https://localhost:8080/"
        },
        "id": "vNhVLOMb5t-3",
        "outputId": "95d41dda-c7b9-4ca9-93bd-e9f6f8321e9a"
      },
      "execution_count": 8,
      "outputs": [
        {
          "output_type": "stream",
          "name": "stdout",
          "text": [
            "Innomatics Research labs\n",
            "Innomatics Research labs\n",
            "Innomatics Research labs\n",
            "Innomatics Research labs\n",
            "\n"
          ]
        }
      ]
    },
    {
      "cell_type": "markdown",
      "source": [
        "Q2: Given:\n",
        "brand = \"Innomatics\"\n",
        "\n",
        "Print brand 10 times using repetition operator.\n",
        "\n",
        "Add the word \"Research Labs\" to the end of the brand using concatenation."
      ],
      "metadata": {
        "id": "u3Ci0Ltv6RYY"
      }
    },
    {
      "cell_type": "code",
      "source": [
        "brand=\"Innomatics\"\n",
        "print(brand*10)\n",
        "print(brand+\"research labs\")\n",
        "\n"
      ],
      "metadata": {
        "colab": {
          "base_uri": "https://localhost:8080/"
        },
        "id": "mmGw2Q_96Wu-",
        "outputId": "c9fa5a39-6228-4a6a-d95f-63ae62234d8c"
      },
      "execution_count": 14,
      "outputs": [
        {
          "output_type": "stream",
          "name": "stdout",
          "text": [
            "InnomaticsInnomaticsInnomaticsInnomaticsInnomaticsInnomaticsInnomaticsInnomaticsInnomaticsInnomatics\n",
            "Innomaticsresearch labs\n"
          ]
        }
      ]
    },
    {
      "cell_type": "markdown",
      "source": [
        "Q3: Take first_name and last_name as input from the user.\n",
        "\n",
        "Display:\n",
        "Full name.\n",
        "\n",
        "A welcome banner like:\n",
        "\n",
        "Hello, Firstname Lastname\n",
        "\n",
        "Hello, Firstname Lastname\n",
        "\n",
        "Hello, Firstname Lastname\n"
      ],
      "metadata": {
        "id": "D9XJBMru691v"
      }
    },
    {
      "cell_type": "code",
      "source": [
        "first_name=input(\"Enter the first name:\")\n",
        "Second_name=input(\"Enter the Second name:\")\n",
        "full_name=first_name+\" \"+Second_name\n",
        "print(f\"full name is {full_name}\")\n",
        "print(f\"hello {full_name}\\n\"*3)\n"
      ],
      "metadata": {
        "colab": {
          "base_uri": "https://localhost:8080/"
        },
        "id": "efEJ6Yxk7FiV",
        "outputId": "cf0fd81a-fe38-4646-ee63-70eda418e464"
      },
      "execution_count": 19,
      "outputs": [
        {
          "output_type": "stream",
          "name": "stdout",
          "text": [
            "Enter the first name:lakshmi\n",
            "Enter the Second name:ganesh\n",
            "full name is lakshmi ganesh\n",
            "hello lakshmi ganesh\n",
            "hello lakshmi ganesh\n",
            "hello lakshmi ganesh\n",
            "\n"
          ]
        }
      ]
    }
  ]
}