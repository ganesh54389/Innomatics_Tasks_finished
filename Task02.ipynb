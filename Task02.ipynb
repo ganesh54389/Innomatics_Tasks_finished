{
  "nbformat": 4,
  "nbformat_minor": 0,
  "metadata": {
    "colab": {
      "provenance": []
    },
    "kernelspec": {
      "name": "python3",
      "display_name": "Python 3"
    },
    "language_info": {
      "name": "python"
    }
  },
  "cells": [
    {
      "cell_type": "markdown",
      "source": [
        "# 1. Arithmetic Operators\n",
        "1.What are arithmetic operators? Give 2 examples in your own words?\n",
        "\n",
        "Airthamtic Operators are used to perform airthmatic Operations like Additions,Substractions,Multiplications and Divisons\n",
        "\n",
        "EXamples:-\n",
        "\n",
        "\n",
        "1.   Addition:adding two numbers(23+24=47)\n",
        "2.   Substarcion:substarct from highest number into lowest number(25-3=22)\n",
        "3.   Multiplication:multiply one number into another number(23*2=46)\n",
        "\n",
        "\n",
        "\n",
        "\n",
        "\n"
      ],
      "metadata": {
        "id": "ikcldJCkjc7C"
      }
    },
    {
      "cell_type": "markdown",
      "source": [
        "2.Define below two variables and perform operations using arithmetic operators (+, -, *, /, //, %, **)."
      ],
      "metadata": {
        "id": "Zm531B7zlMPC"
      }
    },
    {
      "cell_type": "code",
      "source": [
        "value1 = 10\n",
        "value2 = 15\n",
        "\n",
        "print(\"Addition of two numbers\",value1+value2)\n",
        "print(\"Subtraction of two numbers  \",value1-value2)\n",
        "print(\"Multiplication of two numbers \",value1*value2)\n",
        "print(\"Dvision of two numbers \",value1/value2)\n",
        "print(\"Floor Dvision of two numbers\",value1//value2)\n",
        "print(\"Modules of two numbers \",value1%value2)\n",
        "print(\"Exponent\",value1**value2)\n"
      ],
      "metadata": {
        "colab": {
          "base_uri": "https://localhost:8080/"
        },
        "id": "MaxLQw35lS5f",
        "outputId": "836520fe-51ac-45b5-c1f4-d642905b5a10"
      },
      "execution_count": null,
      "outputs": [
        {
          "output_type": "stream",
          "name": "stdout",
          "text": [
            "Addition of two numbers 25\n",
            "Subtraction of two numbers   -5\n",
            "Multiplication of two numbers  150\n",
            "Dvision of two numbers  0.6666666666666666\n",
            "Floor Dvision of two numbers 0\n",
            "Modules of two numbers  10\n",
            "Exponent 1000000000000000\n"
          ]
        }
      ]
    },
    {
      "cell_type": "markdown",
      "source": [
        "## challenge\n",
        "You have a floor that is 95 meters long and 58.8 meter wide. Find out the Total Area rectangular floor using python and print it.\n",
        "A rectangular tile is 2 meters long and 2 meters wide.\n",
        "How many such tiles will you need to cover the floor completely?\n"
      ],
      "metadata": {
        "id": "b3vhWfBRmUtO"
      }
    },
    {
      "cell_type": "code",
      "source": [
        "length_of_floor=float(input(\"enter the length of floor:\"))\n",
        "width_of_floor=float(input(\"enter the width of floor :\"))\n",
        "area_of_floor=length_of_floor*width_of_floor\n",
        "print(\"Area of Floor\",area_of_floor,\"sq.meters\")\n",
        "\n",
        "\n",
        "length_of_tile=float(input(\"enter the length of tile:\"))\n",
        "width_of_tile=float(input(\"enter the width of tile:\"))\n",
        "area_of_tile= length_of_tile*width_of_tile\n",
        "print(\"area of tile:\",area_of_tile,\"sq.meters\")\n",
        "\n",
        "number_of_tiles=area_of_floor/area_of_tile\n",
        "print(\"number of tiles:\",number_of_tiles)\n",
        "\n"
      ],
      "metadata": {
        "colab": {
          "base_uri": "https://localhost:8080/"
        },
        "id": "N2Hq8JX-mklk",
        "outputId": "9546c29b-fa91-4990-f5b5-66984179a273"
      },
      "execution_count": null,
      "outputs": [
        {
          "output_type": "stream",
          "name": "stdout",
          "text": [
            "enter the length of floor:95\n",
            "enter the width of floor :58.8\n",
            "Area of Floor 5586.0 sq.meters\n",
            "enter the length of tile:2\n",
            "enter the width of tile:2\n",
            "area of tile: 4.0 sq.meters\n",
            "number of tiles: 1396.5\n"
          ]
        }
      ]
    },
    {
      "cell_type": "markdown",
      "source": [
        "# Logical Operator\n",
        "1.What are logical operators in Python? Where do we use them?\n",
        "\n",
        "\n",
        "*   Logical operators are used to combine multiple condition in a programming\n",
        "*   these are used in conditional statements and loops for decision making\n",
        "\n",
        "*   Logical Operators are:\n",
        "             \n",
        "\n",
        "1.   Logical and\n",
        "2.   Logical or\n",
        "3.   List not\n",
        "\n",
        "\n",
        "\n",
        "\n",
        "\n",
        "\n",
        "\n"
      ],
      "metadata": {
        "id": "REj3Xlj-puY8"
      }
    },
    {
      "cell_type": "markdown",
      "source": [
        "2.Create a Python script that defines two boolean variables, is_sunny and is_warm, with appropriate values (True or False)."
      ],
      "metadata": {
        "id": "LJqtPCsNdDUW"
      }
    },
    {
      "cell_type": "code",
      "source": [
        "is_sunny = True\n",
        "is_warm = False\n",
        "\n",
        "print(\"Is it sunny?\", is_sunny)\n",
        "print(\"Is it warm?\", is_warm)"
      ],
      "metadata": {
        "colab": {
          "base_uri": "https://localhost:8080/"
        },
        "id": "KNiLQjkJdWcq",
        "outputId": "e2f2f1d4-6968-48bd-9d60-1a520f0a7d4c"
      },
      "execution_count": 12,
      "outputs": [
        {
          "output_type": "stream",
          "name": "stdout",
          "text": [
            "Is it sunny? True\n",
            "Is it warm? False\n"
          ]
        }
      ]
    },
    {
      "cell_type": "markdown",
      "source": [
        "4.Use logical operators (and, or, not) to create the following conditions:\n",
        "Check if it's both sunny and warm and print the result.\n",
        "Check if it's either sunny or warm and print the result.\n",
        "Check if it's not sunny and print the result.\n"
      ],
      "metadata": {
        "id": "8P7MAPdndhDK"
      }
    },
    {
      "cell_type": "code",
      "source": [
        "is_sunny = True\n",
        "is_warm = False\n",
        "print(\"sunny and warm\",is_sunny and is_warm)\n",
        "print(\"sunny and warm \",is_sunny or is_warm)\n",
        "print(\"not sunny\",not is_sunny)\n"
      ],
      "metadata": {
        "colab": {
          "base_uri": "https://localhost:8080/"
        },
        "id": "DSo53LkjdlOx",
        "outputId": "cd5a7da3-0109-4053-dad5-b7d25640247a"
      },
      "execution_count": 15,
      "outputs": [
        {
          "output_type": "stream",
          "name": "stdout",
          "text": [
            "sunny and warm False\n",
            "sunny and warm  True\n",
            "not sunny False\n"
          ]
        }
      ]
    },
    {
      "cell_type": "markdown",
      "source": [
        "If has_umbrella = True and is_raining = False,\n",
        "Can you go outside without getting wet? Use logical operators to decide."
      ],
      "metadata": {
        "id": "Fr9zo-WFegjf"
      }
    },
    {
      "cell_type": "code",
      "source": [
        "has_umbrella=True\n",
        "is_raining=False\n",
        "outside=has_umbrella and not is_raining\n",
        "print(\"outside without wet \",outside)\n"
      ],
      "metadata": {
        "colab": {
          "base_uri": "https://localhost:8080/"
        },
        "id": "8JBU99MHeiiM",
        "outputId": "3c1c8813-ecae-4668-e84b-29ace63a6133"
      },
      "execution_count": 16,
      "outputs": [
        {
          "output_type": "stream",
          "name": "stdout",
          "text": [
            "outside without wet  True\n"
          ]
        }
      ]
    },
    {
      "cell_type": "markdown",
      "source": [
        "# Comparison Operators\n",
        "1.What are comparison operators? List a few real-world situations where we use them.\n",
        "Comparison Operators are used to compare the two values and return the reusult as boolean form\n",
        "real world situations:-\n",
        "1.Grading System\n",
        "2.price comparison\n",
        "\n"
      ],
      "metadata": {
        "id": "OphSXuLsfQfE"
      }
    },
    {
      "cell_type": "markdown",
      "source": [
        "2.Create a Python script that defines two variables, value1 and value2, with any numeric values.\n"
      ],
      "metadata": {
        "id": "HyMHYV2dgA3m"
      }
    },
    {
      "cell_type": "code",
      "source": [
        "value1=int(input(\"enter the value1:\"))\n",
        "value2=int(input(\"enter the value1:\"))\n",
        "print(f\"the value1 is {value1} and the value2 is {value2}\")"
      ],
      "metadata": {
        "colab": {
          "base_uri": "https://localhost:8080/"
        },
        "id": "VrC0LexbgUx4",
        "outputId": "2330c6b7-5c34-4313-e245-cef4c213c88c"
      },
      "execution_count": 17,
      "outputs": [
        {
          "output_type": "stream",
          "name": "stdout",
          "text": [
            "enter the value1:34\n",
            "enter the value1:89\n",
            "the value1 is 34 and the value2 is89\n"
          ]
        }
      ]
    },
    {
      "cell_type": "markdown",
      "source": [
        "Use comparative operators (==, !=, <, >, <=, >=) to create the following conditions:\n",
        "\n",
        "1.Check if value1 is equal to value2 and print the result.\n",
        "\n",
        "2.Check if value1 is not equal to value2 and print the result.\n",
        "\n",
        "3.Check if value1 is less than value2 and print the result.\n",
        "\n",
        "4.Check if value1 is greater than value2 and print the result.\n",
        "\n",
        "5.Check if value1 is less than or equal to value2 and print the result.\n",
        "\n",
        "6.Check if value1 is greater than or equal to value2 and print the result.\n",
        "\n",
        "\n",
        "\n",
        "\n"
      ],
      "metadata": {
        "id": "i3ot_jyigymP"
      }
    },
    {
      "cell_type": "code",
      "source": [
        "value1=int(input(\"enter the value1:\"))\n",
        "value2=int(input(\"enter the value1:\"))\n",
        "print(value1==value2)\n",
        "print(value1!=value2)\n",
        "print(value1<value2)\n",
        "print(value1>value2)\n",
        "print(value1<=value2)\n",
        "print(value1>=value2)"
      ],
      "metadata": {
        "colab": {
          "base_uri": "https://localhost:8080/"
        },
        "id": "sX8cmQ3Ggz54",
        "outputId": "0d3b2347-0b4a-4de8-e829-d5eded70cb7d"
      },
      "execution_count": 18,
      "outputs": [
        {
          "output_type": "stream",
          "name": "stdout",
          "text": [
            "enter the value1:52\n",
            "enter the value1:25\n",
            "False\n",
            "True\n",
            "False\n",
            "True\n",
            "False\n",
            "True\n"
          ]
        }
      ]
    },
    {
      "cell_type": "markdown",
      "source": [
        "\n",
        "A person’s age is 18.\n",
        "Write a condition to check if the person is eligible to vote (18 or older). Print the message accordingly.\n"
      ],
      "metadata": {
        "id": "uH1O6SLlhbJB"
      }
    },
    {
      "cell_type": "code",
      "source": [
        "age_of_person=int(input(\"enter the age of a person :\"))\n",
        "if age_of_person>=18:\n",
        "  print(\"person is eligible to vote\")\n",
        "else:\n",
        "  print(\"person is not eligible to vote\")\n"
      ],
      "metadata": {
        "colab": {
          "base_uri": "https://localhost:8080/"
        },
        "id": "inrNj7pWhcNz",
        "outputId": "66fc39c5-4bd0-4d5e-c04c-566646980fa6"
      },
      "execution_count": 19,
      "outputs": [
        {
          "output_type": "stream",
          "name": "stdout",
          "text": [
            "enter the age of a person :19\n",
            "person is eligible to vote\n"
          ]
        }
      ]
    },
    {
      "cell_type": "markdown",
      "source": [
        "4. CONCATENATION REPETITION\n",
        "\n",
        "1.What is concatenation and what is repetition? Write the difference between them ?\n",
        "\n",
        "**concatenation**:-joing the two strings by using + operator .here + operator does not act as airthamtic operator.\n",
        "\n",
        "**repetition:-**:-repeat the string as specified number of times by using * operator"
      ],
      "metadata": {
        "id": "Uk19nkLehx8P"
      }
    },
    {
      "cell_type": "markdown",
      "source": [
        "2.Take two variables as first_name and last_name.concatenate them."
      ],
      "metadata": {
        "id": "8s9qAMKzilDb"
      }
    },
    {
      "cell_type": "code",
      "source": [
        "from typing import Concatenate\n",
        "first_name=input(\"enter the first name: \")\n",
        "second_name=input(\"enter the second name:\")\n",
        "Concatenate=first_name+second_name\n",
        "print(Concatenate)\n"
      ],
      "metadata": {
        "colab": {
          "base_uri": "https://localhost:8080/"
        },
        "id": "ur2WnEpripK5",
        "outputId": "1edcfe0b-87b9-46e4-a8bc-0e16312d2ead"
      },
      "execution_count": 20,
      "outputs": [
        {
          "output_type": "stream",
          "name": "stdout",
          "text": [
            "enter the first name:lakshmi\n",
            "enter the second name:ganesh\n",
            "lakshmiganesh\n"
          ]
        }
      ]
    },
    {
      "cell_type": "markdown",
      "source": [
        "3.Print \"Innomatics\" 5 times in the same line."
      ],
      "metadata": {
        "id": "G5dThF8Fi8n6"
      }
    },
    {
      "cell_type": "code",
      "source": [
        "print(\"Innomatics  \"*5)"
      ],
      "metadata": {
        "colab": {
          "base_uri": "https://localhost:8080/"
        },
        "id": "_PChgNWvjCG7",
        "outputId": "7ea32a3d-e470-4aef-c975-6da590e7f573"
      },
      "execution_count": 23,
      "outputs": [
        {
          "output_type": "stream",
          "name": "stdout",
          "text": [
            "Innomatics  Innomatics  Innomatics  Innomatics  Innomatics  \n"
          ]
        }
      ]
    },
    {
      "cell_type": "markdown",
      "source": [
        "**challenge**\n",
        "\n",
        "Create a mini banner that Prints \"Welcome!\" followed by your full name 3 times, each on a new line."
      ],
      "metadata": {
        "id": "LP9pTLhcjPQj"
      }
    },
    {
      "cell_type": "code",
      "source": [
        "full_name=input(\"enter the full name of person :\")\n",
        "print(f\"welcome,{full_name}\\n\"*3)"
      ],
      "metadata": {
        "colab": {
          "base_uri": "https://localhost:8080/"
        },
        "id": "DillisrMjfwB",
        "outputId": "e60a4872-33d5-46c5-ca6e-be35396f374b"
      },
      "execution_count": 32,
      "outputs": [
        {
          "output_type": "stream",
          "name": "stdout",
          "text": [
            "enter the full name of person :lakshmi ganesh\n",
            "welcome,lakshmi ganesh\n",
            "welcome,lakshmi ganesh\n",
            "welcome,lakshmi ganesh\n",
            "\n"
          ]
        }
      ]
    }
  ]
}